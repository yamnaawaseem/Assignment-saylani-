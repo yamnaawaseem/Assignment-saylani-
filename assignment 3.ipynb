{
 "cells": [
  {
   "cell_type": "code",
   "execution_count": 7,
   "metadata": {},
   "outputs": [
    {
     "name": "stdout",
     "output_type": "stream",
     "text": [
      "Enter Value:5\n",
      "Enter value:10\n",
      "Enter Operator:/\n",
      "answer 0.5\n"
     ]
    }
   ],
   "source": [
    "x=int(input(\"Enter Value:\"))\n",
    "y=int(input(\"Enter value:\"))\n",
    "operator=input(\"Enter Operator:\")\n",
    "\n",
    "if  operator == \"+\":\n",
    "    val=x+y\n",
    "    print(\"answer\",val)\n",
    "elif operator == \"-\":\n",
    "    val=x-y\n",
    "    print(\"answer\",val)\n",
    "elif  operator == \"*\":\n",
    "    val=x*y\n",
    "    print(\"answer\",val)\n",
    "elif operator == \"/\":\n",
    "    val=x/y\n",
    "    print(\"answer\",val)\n",
    "elif operator == \"**\":\n",
    "    val=x**y\n",
    "    print(\"answer\",val)\n",
    "else:\n",
    "    print(\"Enter valid operator\")\n",
    "    \n",
    "    \n",
    "    \n",
    "\n"
   ]
  },
  {
   "cell_type": "code",
   "execution_count": 25,
   "metadata": {},
   "outputs": [
    {
     "name": "stdout",
     "output_type": "stream",
     "text": [
      "11\n",
      "0\n",
      "45\n"
     ]
    }
   ],
   "source": [
    "\n",
    "list1 = [11, 0, 45, -93] \n",
    "for num in list1: \n",
    "    if num >= 0: \n",
    "        print(num)\n",
    "\n"
   ]
  },
  {
   "cell_type": "code",
   "execution_count": 27,
   "metadata": {},
   "outputs": [
    {
     "name": "stdout",
     "output_type": "stream",
     "text": [
      "{'a': 10, 'b': 20, 'c': 30}\n",
      "{'a': 10, 'b': 20, 'c': 30, 'd': 40}\n"
     ]
    }
   ],
   "source": [
    "dic = {\"a\":10, \"b\":20, \"c\":30}  \n",
    "print(dic)  \n",
    "dic.update({\"d\":40})  \n",
    "print(dic)"
   ]
  },
  {
   "cell_type": "code",
   "execution_count": 29,
   "metadata": {},
   "outputs": [
    {
     "name": "stdout",
     "output_type": "stream",
     "text": [
      "Sum of all the values in the dictionary is :  15\n"
     ]
    }
   ],
   "source": [
    "dic = {'1' : 1,'2' : 2,'3' : 3,'4' : 4,'5' : 5}\n",
    "sum_values = sum(dic.values())\n",
    "print(\"Sum of all the values in the dictionary is : \",sum_values)"
   ]
  },
  {
   "cell_type": "code",
   "execution_count": 32,
   "metadata": {},
   "outputs": [
    {
     "name": "stdout",
     "output_type": "stream",
     "text": [
      "present\n",
      "not\n"
     ]
    }
   ],
   "source": [
    "dictionary= { 1:2, 3:4, 5:6, 7:8, 9:10}\n",
    "def key_check(x):\n",
    "     if x in dictionary:\n",
    "         print(\"present\")\n",
    "     else:\n",
    "         print(\"not\")\n",
    "key_check(5)\n",
    "key_check(4)"
   ]
  },
  {
   "cell_type": "code",
   "execution_count": 33,
   "metadata": {},
   "outputs": [
    {
     "name": "stdout",
     "output_type": "stream",
     "text": [
      "[3, 4, 5, 6, 7]\n"
     ]
    }
   ],
   "source": [
    "lst = [1,2,3,4,5,6,3,4,5,6,7,5,6,7,8,9,6,7]\n",
    "dupItems = []\n",
    "uniqItems = {}\n",
    "for x in lst:\n",
    "   if x not in uniqItems:\n",
    "      uniqItems[x] = 1\n",
    "   else:\n",
    "      if uniqItems[x] == 1:\n",
    "         dupItems.append(x)\n",
    "      uniqItems[x] += 1\n",
    "print(dupItems)"
   ]
  },
  {
   "cell_type": "code",
   "execution_count": null,
   "metadata": {},
   "outputs": [],
   "source": []
  }
 ],
 "metadata": {
  "kernelspec": {
   "display_name": "Python 3",
   "language": "python",
   "name": "python3"
  },
  "language_info": {
   "codemirror_mode": {
    "name": "ipython",
    "version": 3
   },
   "file_extension": ".py",
   "mimetype": "text/x-python",
   "name": "python",
   "nbconvert_exporter": "python",
   "pygments_lexer": "ipython3",
   "version": "3.7.4"
  }
 },
 "nbformat": 4,
 "nbformat_minor": 2
}
