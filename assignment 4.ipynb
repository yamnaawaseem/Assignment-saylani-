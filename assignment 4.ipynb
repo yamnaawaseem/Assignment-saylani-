{
 "cells": [
  {
   "cell_type": "code",
   "execution_count": 5,
   "metadata": {},
   "outputs": [
    {
     "name": "stdout",
     "output_type": "stream",
     "text": [
      "yamnaa\n",
      "ahmed\n",
      "20\n",
      "karachi\n",
      "{'first_name': 'yamnaa', 'last_name': 'ahmed', 'age': 20, 'city': 'karachi', 'qualification': 'high academic level'}\n",
      "{'first_name': 'yamnaa', 'last_name': 'ahmed', 'age': 20, 'city': 'karachi'}\n"
     ]
    }
   ],
   "source": [
    "person = {\n",
    "    'first_name': 'yamnaa',\n",
    "    'last_name': 'ahmed',\n",
    "    'age': 20,\n",
    "    'city': 'karachi',\n",
    "    }\n",
    "\n",
    "print(person['first_name'])\n",
    "print(person['last_name'])\n",
    "print(person['age'])\n",
    "print(person['city'])\n",
    "person[\"qualification\"]=\"high academic level\"\n",
    "print(person)\n",
    "del(person[\"qualification\"])\n",
    "print(person)\n"
   ]
  },
  {
   "cell_type": "code",
   "execution_count": 7,
   "metadata": {},
   "outputs": [
    {
     "name": "stdout",
     "output_type": "stream",
     "text": [
      "\n",
      "Karachi is in Pakistan.\n",
      "  It has a population of about 2145320.\n",
      "  The Beach is the famous place of this city.\n",
      "\n",
      "Bangkok is in Thailand.\n",
      "  It has a population of about 789456.\n",
      "  The Safari World is the famous place of this city.\n",
      "\n",
      "Kualalumpur is in Malaysia.\n",
      "  It has a population of about 214585.\n",
      "  The Twin Towers is the famous place of this city.\n"
     ]
    }
   ],
   "source": [
    "cities = {\n",
    "    'karachi': {\n",
    "        'country': 'pakistan',\n",
    "        'population': 2145320,\n",
    "        'famous place': 'beach',\n",
    "        },\n",
    "    'bangkok': {\n",
    "        'country': 'thailand',\n",
    "        'population': 789456,\n",
    "        'famous place': 'safari world',\n",
    "        },\n",
    "    'kualalumpur': {\n",
    "        'country': 'malaysia',\n",
    "        'population': 214585,\n",
    "        'famous place': 'twin towers',\n",
    "        }\n",
    "    }\n",
    "\n",
    "for city, city_info in cities.items():\n",
    "    country = city_info['country'].title()\n",
    "    population = city_info['population']\n",
    "    place = city_info['famous place'].title()\n",
    "\n",
    "    print(\"\\n\" + city.title() + \" is in \" + country + \".\")\n",
    "    print(\"  It has a population of about \" + str(population) + \".\")\n",
    "    print(\"  The \" + place + \" is the famous place of this city.\")"
   ]
  },
  {
   "cell_type": "code",
   "execution_count": 8,
   "metadata": {},
   "outputs": [
    {
     "name": "stdout",
     "output_type": "stream",
     "text": [
      "How old are you?\n",
      "Enter 'quit' when you are finished. 14\n",
      "  Your ticket is $15.\n",
      "How old are you?\n",
      "Enter 'quit' when you are finished. 3\n",
      "  Your ticket is $10.\n",
      "How old are you?\n",
      "Enter 'quit' when you are finished. 15\n",
      "  Your ticket is $15.\n",
      "How old are you?\n",
      "Enter 'quit' when you are finished. 16\n",
      "  Your ticket is $15.\n",
      "How old are you?\n",
      "Enter 'quit' when you are finished. quit\n"
     ]
    }
   ],
   "source": [
    "ask = \"How old are you?\"\n",
    "ask += \"\\nEnter 'quit' when you are finished. \"\n",
    "\n",
    "while True:\n",
    "    age = input(ask)\n",
    "    if age == 'quit':\n",
    "        break\n",
    "    age = int(age)\n",
    "\n",
    "    if age < 3:\n",
    "        print(\"  You get in free!\")\n",
    "    elif age < 13:\n",
    "        print(\"  Your ticket is $10.\")\n",
    "    else:\n",
    "        print(\"  Your ticket is $15.\")"
   ]
  },
  {
   "cell_type": "code",
   "execution_count": 9,
   "metadata": {},
   "outputs": [
    {
     "name": "stdout",
     "output_type": "stream",
     "text": [
      "The Charlie and the Chocolate Factory is one of my favorite books.\n"
     ]
    }
   ],
   "source": [
    "def favorite_book(title):\n",
    "    print(title + \" is one of my favorite books.\")\n",
    "\n",
    "favorite_book('The Charlie and the Chocolate Factory')"
   ]
  },
  {
   "cell_type": "code",
   "execution_count": null,
   "metadata": {},
   "outputs": [],
   "source": [
    "import random\n",
    "it=random.randint(0, 101)\n",
    "def main():\n",
    "    x=int(input('Guess a number one through one hundred:'))\n",
    "    if x == it:\n",
    "        print(\"You got it!\")\n",
    "    elif x > it:\n",
    "        print(\"too high\")\n",
    "        main()\n",
    "    else:\n",
    "        print(\"too low\")\n",
    "        main()\n",
    "main()"
   ]
  },
  {
   "cell_type": "code",
   "execution_count": null,
   "metadata": {},
   "outputs": [],
   "source": []
  }
 ],
 "metadata": {
  "kernelspec": {
   "display_name": "Python 3",
   "language": "python",
   "name": "python3"
  },
  "language_info": {
   "codemirror_mode": {
    "name": "ipython",
    "version": 3
   },
   "file_extension": ".py",
   "mimetype": "text/x-python",
   "name": "python",
   "nbconvert_exporter": "python",
   "pygments_lexer": "ipython3",
   "version": "3.7.4"
  }
 },
 "nbformat": 4,
 "nbformat_minor": 2
}
